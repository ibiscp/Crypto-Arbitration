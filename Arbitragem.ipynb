{
 "cells": [
  {
   "cell_type": "code",
   "execution_count": 1,
   "metadata": {
    "collapsed": false,
    "deletable": true,
    "editable": true
   },
   "outputs": [],
   "source": [
    "from tqdm import tqdm\n",
    "from hitbtc import Hitbtc\n",
    "from urllib.request import urlopen\n",
    "from bittrex.bittrex import Bittrex\n",
    "from bitfinex import Bitfinex\n",
    "import krakenex\n",
    "from binance.client import Client\n",
    "\n",
    "exchanges = {}\n",
    "btc = 0.01"
   ]
  },
  {
   "cell_type": "markdown",
   "metadata": {
    "deletable": true,
    "editable": true
   },
   "source": [
    "## Read from HitBTC"
   ]
  },
  {
   "cell_type": "code",
   "execution_count": 2,
   "metadata": {
    "collapsed": false,
    "deletable": true,
    "editable": true
   },
   "outputs": [
    {
     "name": "stderr",
     "output_type": "stream",
     "text": [
      "Processing: 100%|███████████████████████████████████████████████████████████████████████████████| 428/428 [00:00<00:00, 5074.20it/s]\n"
     ]
    }
   ],
   "source": [
    "hitbtcClient = Hitbtc(None, None)\n",
    "\n",
    "tickers = hitbtcClient.get_tickers()\n",
    "currencies = hitbtcClient.get_currencies()\n",
    "symbols = hitbtcClient.get_symbol('')\n",
    "\n",
    "hitbtc = {}\n",
    "\n",
    "pbar = tqdm(range(len(tickers)))\n",
    "pbar.set_description('Processing')\n",
    "\n",
    "for j in pbar:\n",
    "    tick = tickers[j]\n",
    "    \n",
    "    for d in currencies:\n",
    "        if d['id'] == tick['symbol'][0:-3]:\n",
    "            currency = d\n",
    "            \n",
    "    for d in symbols:\n",
    "        if d['id'] == tick['symbol']:\n",
    "            symbol = d\n",
    "    \n",
    "    try:\n",
    "        ask = float(tick['ask'])\n",
    "    except:\n",
    "        ask = 0.0\n",
    "    try:\n",
    "        bid = float(tick['bid'])\n",
    "    except:\n",
    "        bid = 0.0\n",
    "        \n",
    "    hitbtc[tick['symbol']]={'ask':ask,'bid':bid, 'base':tick['symbol'][-3:],\n",
    "                            'payinEnabled':currency['payinEnabled'],\n",
    "                            'payoutEnabled':currency['payoutEnabled'],\n",
    "                            'takerFee':symbol['takeLiquidityRate'],\n",
    "                           'withdrawalFee':None}\n",
    "    # TODO - withdraw fee not yet implemented on API\n",
    "        \n",
    "exchanges['hitbtc'] = hitbtc"
   ]
  },
  {
   "cell_type": "markdown",
   "metadata": {
    "deletable": true,
    "editable": true
   },
   "source": [
    "## Read from Bittrex"
   ]
  },
  {
   "cell_type": "code",
   "execution_count": 3,
   "metadata": {
    "collapsed": false,
    "deletable": true,
    "editable": true
   },
   "outputs": [
    {
     "name": "stderr",
     "output_type": "stream",
     "text": [
      "Processing: 100%|██████████████████████████████████████████████████████████████████████████████| 271/271 [00:00<00:00, 11496.24it/s]\n"
     ]
    }
   ],
   "source": [
    "bittrexClient = Bittrex(None, None)  # or defaulting to v1.1 as Bittrex(None, None)\n",
    "symbols = bittrexClient.get_market_summaries()['result']\n",
    "currencies = bittrexClient.get_currencies()['result']\n",
    "\n",
    "bittrex = {}\n",
    "\n",
    "pbar = tqdm(range(len(symbols)))\n",
    "pbar.set_description('Processing')\n",
    "\n",
    "for j in pbar:\n",
    "    symbol = symbols[j]\n",
    "    \n",
    "    names = symbol['MarketName'].split('-')\n",
    "    \n",
    "    # Get withdrawal fee\n",
    "    for d in currencies:\n",
    "        if d['Currency'] == names[1]:\n",
    "            currency = d\n",
    "\n",
    "    try:\n",
    "        ask = float(symbol['Ask'])\n",
    "    except:\n",
    "        ask = 0.0\n",
    "    try:\n",
    "        bid = float(symbol['Bid'])\n",
    "    except:\n",
    "        bid = 0.0\n",
    "    \n",
    "    # Casos a parte\n",
    "    if names[1] == 'BCC':\n",
    "        names[1] = 'BCH'\n",
    "        \n",
    "    bittrex[names[1]+names[0]] = {'ask':ask,'bid':bid, 'base':names[0],\n",
    "                                  'payinEnabled':True,\n",
    "                                  'payoutEnabled':True,\n",
    "                                 'takerFee':'0.0025',\n",
    "                                 'withdrawalFee': currency['TxFee']}\n",
    "    \n",
    "exchanges['bittrex'] = bittrex"
   ]
  },
  {
   "cell_type": "markdown",
   "metadata": {
    "deletable": true,
    "editable": true
   },
   "source": [
    "## Read from Binance"
   ]
  },
  {
   "cell_type": "code",
   "execution_count": 4,
   "metadata": {
    "collapsed": false,
    "deletable": true,
    "editable": true
   },
   "outputs": [
    {
     "name": "stderr",
     "output_type": "stream",
     "text": [
      "Processing: 100%|██████████████████████████████████████████████████████████████████████████████| 234/234 [00:00<00:00, 10159.17it/s]\n"
     ]
    }
   ],
   "source": [
    "binanceClient = Client(\"\", \"\")\n",
    "\n",
    "symbols = binanceClient.get_orderbook_tickers()\n",
    "\n",
    "products = binanceClient.get_products()['data']\n",
    "\n",
    "binance = {}\n",
    "\n",
    "pbar = tqdm(range(len(symbols)))\n",
    "pbar.set_description('Processing')\n",
    "\n",
    "for j in pbar:\n",
    "    symbol = symbols[j]\n",
    "    \n",
    "    # TODO - Get withdrawal fee - Not working\n",
    "    for d in products:\n",
    "        if d['symbol'] == symbol['symbol']:\n",
    "            currency = d\n",
    "    \n",
    "    try:\n",
    "        ask = float(symbol['askPrice'])\n",
    "    except:\n",
    "        ask = 0.0\n",
    "    try:\n",
    "        bid = float(symbol['bidPrice'])\n",
    "    except:\n",
    "        bid = 0.0\n",
    "        \n",
    "    if 'BCC' in symbol['symbol']:\n",
    "            symbol['symbol'] = symbol['symbol'].replace('BCC', 'BCH')\n",
    "        \n",
    "    binance[symbol['symbol']] = {'ask':ask,'bid':bid, 'base':symbol['symbol'][-3:],\n",
    "                                 'payinEnabled':True,\n",
    "                                 'payoutEnabled':True,\n",
    "                                 'takerFee':'0.001',\n",
    "                                 'withdrawalFee': currency['withdrawFee']}\n",
    "        \n",
    "exchanges['binance'] = binance"
   ]
  },
  {
   "cell_type": "markdown",
   "metadata": {
    "deletable": true,
    "editable": true
   },
   "source": [
    "## All possible trades"
   ]
  },
  {
   "cell_type": "code",
   "execution_count": 5,
   "metadata": {
    "collapsed": false,
    "deletable": true,
    "editable": true
   },
   "outputs": [
    {
     "name": "stdout",
     "output_type": "stream",
     "text": [
      "{'coin': 'SC', 'sell': 2.05e-06, 'buy': 3.511e-06, 'gain': 67.27, 'from': 'bittrex', 'to': 'hitbtc', 'base': 'BTC'}\n",
      "{'coin': 'XDN', 'sell': 1.3599e-06, 'buy': 1.63e-06, 'gain': 17.06, 'from': 'hitbtc', 'to': 'bittrex', 'base': 'BTC'}\n",
      "{'coin': 'EMC', 'sell': 0.00018726, 'buy': 0.0002104, 'gain': 9.73, 'from': 'bittrex', 'to': 'hitbtc', 'base': 'BTC'}\n"
     ]
    }
   ],
   "source": [
    "trades = list()\n",
    "\n",
    "for exchangeVenda in exchanges:\n",
    "    for coin in exchanges[exchangeVenda]:\n",
    "        for exchangeCompra in exchanges:\n",
    "            if exchangeVenda != exchangeCompra:\n",
    "                try:                   \n",
    "                    if exchanges[exchangeCompra][coin]['base'] == exchanges[exchangeVenda][coin]['base']:                      \n",
    "                        base = exchanges[exchangeVenda][coin]['base']\n",
    "                        \n",
    "                        priceSell = exchanges[exchangeVenda][coin]['ask'] # Price exchange is selling\n",
    "                        priceBuy = exchanges[exchangeCompra][coin]['bid'] # Price exchange is buying\n",
    "                        sellFee = float(exchanges[exchangeVenda][coin]['takerFee']) # Fee for the selling exchange\n",
    "                        buyFee = float(exchanges[exchangeCompra][coin]['takerFee']) # Fee for the buying exchange\n",
    "                        \n",
    "                        buy = btc/priceSell * (1-sellFee)       # Quantity of coin bought\n",
    "                        transfer = buy*(0.99)                   # Quantity of coin transfered after withdraw fee\n",
    "                        sell = transfer * priceBuy * (1-buyFee) # Quantity of coin sold\n",
    "                        transferBTC = sell*(0.99)               # Quantity of coin transfered back after withdraw fee\n",
    "\n",
    "                        gain = (transferBTC-btc)/btc            # Final gain\n",
    "                        \n",
    "                        if gain > 0.05:\n",
    "                            considerWithdraw = True            # False to show the coins with wallets in maintenance\n",
    "                            \n",
    "                            if considerWithdraw == True and \\\n",
    "                                exchanges[exchangeVenda][coin]['payoutEnabled'] == True and \\\n",
    "                                exchanges[exchangeCompra][coin]['payinEnabled'] == True:\n",
    "                                trades.append({'coin':coin.replace(base, ''),\n",
    "                                           'sell':priceSell,\n",
    "                                           'buy':priceBuy,\n",
    "                                           'gain':int(gain*10000)/100,\n",
    "                                           'from':exchangeVenda,\n",
    "                                           'to':exchangeCompra,\n",
    "                                           'base':base})\n",
    "                            elif considerWithdraw == False:\n",
    "                                trades.append({'coin':coin.replace(base, ''),\n",
    "                                           'sell':priceSell,\n",
    "                                           'buy':priceBuy,\n",
    "                                           'gain':int(gain*10000)/100,\n",
    "                                           'from':exchangeVenda,\n",
    "                                           'to':exchangeCompra,\n",
    "                                           'base':base})\n",
    "                except:\n",
    "                    ibis = 1\n",
    "    \n",
    "trades = sorted(trades, key=lambda k: k['gain'],reverse=True) \n",
    "\n",
    "for i in trades:\n",
    "    print(i)"
   ]
  },
  {
   "cell_type": "code",
   "execution_count": 11,
   "metadata": {
    "collapsed": false,
    "deletable": true,
    "editable": true
   },
   "outputs": [
    {
     "name": "stdout",
     "output_type": "stream",
     "text": [
      "Preço de venda: 1.3872e-06\n",
      "Preço de compra: 1.62e-06\n",
      "7190.743944636678\n",
      "Ganho: 7.19\n"
     ]
    }
   ],
   "source": [
    "# HitBTC\n",
    "orderbook = hitbtcClient.get_ticker('XDNBTC')\n",
    "venda = float(orderbook['ask'])\n",
    "print('Preço de venda:', venda)\n",
    "\n",
    "# Bittrex\n",
    "orderbook = bittrexClient.get_ticker('BTC-XDN')['result']\n",
    "compra = float(orderbook['Bid'])\n",
    "print('Preço de compra:', compra)\n",
    "\n",
    "# Quantidade Inicial\n",
    "btc = 0.01\n",
    "buy = btc/venda * (1-0.25/100)\n",
    "print(buy)\n",
    "transfer = buy - 0.01\n",
    "sell = transfer * compra * (1-0.25/100)\n",
    "transferBTC = sell - 0.0009\n",
    "\n",
    "gain = (transferBTC-btc)/btc\n",
    "\n",
    "print('Ganho:', int(gain * 10000)/100)"
   ]
  },
  {
   "cell_type": "code",
   "execution_count": 8,
   "metadata": {
    "collapsed": false,
    "deletable": true,
    "editable": true
   },
   "outputs": [
    {
     "name": "stdout",
     "output_type": "stream",
     "text": [
      "Preço de compra: 3.511e-06\n",
      "Preço de venda: 2.05e-06\n",
      "48658.53658536586\n",
      "Ganho: 69.76\n"
     ]
    }
   ],
   "source": [
    "# HitBTC\n",
    "orderbook = hitbtcClient.get_ticker('SCBTC')\n",
    "compra = float(orderbook['bid'])\n",
    "print('Preço de compra:', compra)\n",
    "\n",
    "# Bittrex\n",
    "orderbook = bittrexClient.get_ticker('BTC-SC')['result']\n",
    "venda = float(orderbook['Ask'])\n",
    "print('Preço de venda:', venda)\n",
    "\n",
    "# Quantidade Inicial\n",
    "btc = 0.1\n",
    "buy = btc/venda * (1-0.25/100)\n",
    "print(buy)\n",
    "transfer = buy - 0.01\n",
    "sell = transfer * compra * (1-0.1/100)\n",
    "transferBTC = sell - 0.0009\n",
    "\n",
    "gain = (transferBTC-btc)/btc\n",
    "\n",
    "print('Ganho:', int(gain * 10000)/100)"
   ]
  },
  {
   "cell_type": "code",
   "execution_count": 6,
   "metadata": {
    "collapsed": false,
    "deletable": true,
    "editable": true
   },
   "outputs": [
    {
     "name": "stdout",
     "output_type": "stream",
     "text": [
      "Preço de venda: 4.41e-06\n",
      "Quantidade venda: 47664.63068182\n",
      "Preço de compra: 4.4e-06\n",
      "Quantidade compra: 476100.0\n",
      "Minimo de transação:  47664.63068182\n",
      "20357.142857142855\n",
      "-20.19391140000007\n",
      "Ganho: -1.72\n"
     ]
    }
   ],
   "source": [
    "# Bittrex\n",
    "orderbook = bittrexClient.get_orderbook('BTC-DGB')['result']\n",
    "venda = float(orderbook['sell'][0]['Rate'])\n",
    "quantidadeVenda = float(orderbook['sell'][0]['Quantity'])\n",
    "print('Preço de venda:', venda)\n",
    "print('Quantidade venda:', quantidadeVenda)\n",
    "\n",
    "# HitBTC\n",
    "orderbook = hitbtcClient.get_orderbook('DGBBTC')\n",
    "compra = float(orderbook['bid'][0]['price'])\n",
    "quantidadeCompra = float(orderbook['bid'][0]['size'])\n",
    "print('Preço de compra:', compra)\n",
    "print('Quantidade compra:', quantidadeCompra)\n",
    "\n",
    "minVC = min(quantidadeCompra, quantidadeVenda)\n",
    "print('Minimo de transação: ', minVC)\n",
    "\n",
    "# Quantidade Inicial\n",
    "btc = 0.09\n",
    "\n",
    "buy = btc/venda * (1-0.25/100)\n",
    "print(buy)\n",
    "transfer = buy - 0.2\n",
    "sell = transfer * compra * (1-0.25/100)\n",
    "transferBTC = sell - 0.0009\n",
    "\n",
    "gain = (transferBTC-btc)/btc\n",
    "\n",
    "print((transferBTC-btc)*13000)\n",
    "\n",
    "print('Ganho:', int(gain * 10000)/100)"
   ]
  },
  {
   "cell_type": "code",
   "execution_count": 7,
   "metadata": {
    "collapsed": false,
    "deletable": true,
    "editable": true
   },
   "outputs": [
    {
     "name": "stdout",
     "output_type": "stream",
     "text": [
      "Preço de venda: 4.41e-06\n",
      "Preço de compra: 4.4e-06\n",
      "20357.142857142855\n",
      "Ganho: -1.72\n"
     ]
    }
   ],
   "source": [
    "# Bittrex\n",
    "orderbook = bittrexClient.get_ticker('BTC-DGB')['result']\n",
    "venda = float(orderbook['Ask'])\n",
    "print('Preço de venda:', venda)\n",
    "\n",
    "# HitBTC\n",
    "orderbook = hitbtcClient.get_ticker('DGBBTC')\n",
    "compra = float(orderbook['bid'])\n",
    "print('Preço de compra:', compra)\n",
    "\n",
    "# Quantidade Inicial\n",
    "btc = 0.09\n",
    "buy = btc/venda * (1-0.25/100)\n",
    "print(buy)\n",
    "transfer = buy - 0.2\n",
    "sell = transfer * compra * (1-0.25/100)\n",
    "transferBTC = sell - 0.0009\n",
    "\n",
    "gain = (transferBTC-btc)/btc\n",
    "\n",
    "print('Ganho:', int(gain * 10000)/100)"
   ]
  }
 ],
 "metadata": {
  "kernelspec": {
   "display_name": "Python 3",
   "language": "python",
   "name": "python3"
  },
  "language_info": {
   "codemirror_mode": {
    "name": "ipython",
    "version": 3
   },
   "file_extension": ".py",
   "mimetype": "text/x-python",
   "name": "python",
   "nbconvert_exporter": "python",
   "pygments_lexer": "ipython3",
   "version": "3.6.0"
  }
 },
 "nbformat": 4,
 "nbformat_minor": 2
}
