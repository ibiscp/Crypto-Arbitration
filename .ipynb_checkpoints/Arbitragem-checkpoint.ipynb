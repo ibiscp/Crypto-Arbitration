{
 "cells": [
  {
   "cell_type": "code",
   "execution_count": 1,
   "metadata": {
    "collapsed": false,
    "deletable": true,
    "editable": true
   },
   "outputs": [],
   "source": [
    "from tqdm import tqdm\n",
    "from hitbtc import Hitbtc\n",
    "from urllib.request import urlopen\n",
    "from bittrex.bittrex import Bittrex\n",
    "from bitfinex import Bitfinex\n",
    "import krakenex\n",
    "from binance.client import Client\n",
    "\n",
    "exchanges = {}\n",
    "btc = 0.01"
   ]
  },
  {
   "cell_type": "markdown",
   "metadata": {
    "deletable": true,
    "editable": true
   },
   "source": [
    "## Read from HitBTC"
   ]
  },
  {
   "cell_type": "code",
   "execution_count": 2,
   "metadata": {
    "collapsed": false,
    "deletable": true,
    "editable": true
   },
   "outputs": [
    {
     "name": "stderr",
     "output_type": "stream",
     "text": [
      "Processing: 100%|███████████████████████████████████████████████████████████████████████████████| 425/425 [00:00<00:00, 7316.06it/s]\n"
     ]
    }
   ],
   "source": [
    "hitbtcClient = Hitbtc(None, None)\n",
    "\n",
    "tickers = hitbtcClient.get_tickers()\n",
    "currencies = hitbtcClient.get_currencies()\n",
    "symbols = hitbtcClient.get_symbol('')\n",
    "\n",
    "hitbtc = {}\n",
    "\n",
    "pbar = tqdm(range(len(tickers)))\n",
    "pbar.set_description('Processing')\n",
    "\n",
    "for j in pbar:\n",
    "    tick = tickers[j]\n",
    "    \n",
    "    for d in currencies:\n",
    "        if d['id'] == tick['symbol'][0:-3]:\n",
    "            currency = d\n",
    "            \n",
    "    for d in symbols:\n",
    "        if d['id'] == tick['symbol']:\n",
    "            symbol = d\n",
    "    \n",
    "    try:\n",
    "        ask = float(tick['ask'])\n",
    "    except:\n",
    "        ask = 0.0\n",
    "    try:\n",
    "        bid = float(tick['bid'])\n",
    "    except:\n",
    "        bid = 0.0\n",
    "        \n",
    "    hitbtc[tick['symbol']]={'ask':ask,'bid':bid, 'base':tick['symbol'][-3:],\n",
    "                            'payinEnabled':currency['payinEnabled'],\n",
    "                            'payoutEnabled':currency['payoutEnabled'],\n",
    "                            'takerFee':symbol['takeLiquidityRate'],\n",
    "                           'withdrawalFee':None}\n",
    "    # TODO - withdraw fee not yet implemented on API\n",
    "        \n",
    "exchanges['hitbtc'] = hitbtc"
   ]
  },
  {
   "cell_type": "markdown",
   "metadata": {
    "deletable": true,
    "editable": true
   },
   "source": [
    "## Read from Bittrex"
   ]
  },
  {
   "cell_type": "code",
   "execution_count": 3,
   "metadata": {
    "collapsed": false,
    "deletable": true,
    "editable": true
   },
   "outputs": [
    {
     "name": "stderr",
     "output_type": "stream",
     "text": [
      "Processing: 100%|██████████████████████████████████████████████████████████████████████████████| 266/266 [00:00<00:00, 12074.25it/s]\n"
     ]
    }
   ],
   "source": [
    "bittrexClient = Bittrex(None, None)  # or defaulting to v1.1 as Bittrex(None, None)\n",
    "symbols = bittrexClient.get_market_summaries()['result']\n",
    "currencies = bittrexClient.get_currencies()['result']\n",
    "\n",
    "bittrex = {}\n",
    "\n",
    "pbar = tqdm(range(len(symbols)))\n",
    "pbar.set_description('Processing')\n",
    "\n",
    "for j in pbar:\n",
    "    symbol = symbols[j]\n",
    "    \n",
    "    names = symbol['MarketName'].split('-')\n",
    "    \n",
    "    # Get withdrawal fee\n",
    "    for d in currencies:\n",
    "        if d['Currency'] == names[1]:\n",
    "            currency = d\n",
    "\n",
    "    try:\n",
    "        ask = float(symbol['Ask'])\n",
    "    except:\n",
    "        ask = 0.0\n",
    "    try:\n",
    "        bid = float(symbol['Bid'])\n",
    "    except:\n",
    "        bid = 0.0\n",
    "    \n",
    "    # Casos a parte\n",
    "    if names[1] == 'BCC':\n",
    "        names[1] = 'BCH'\n",
    "        \n",
    "    bittrex[names[1]+names[0]] = {'ask':ask,'bid':bid, 'base':names[0],\n",
    "                                  'payinEnabled':True,\n",
    "                                  'payoutEnabled':True,\n",
    "                                 'takerFee':'0.0025',\n",
    "                                 'withdrawalFee': currency['TxFee']}\n",
    "    \n",
    "exchanges['bittrex'] = bittrex"
   ]
  },
  {
   "cell_type": "markdown",
   "metadata": {
    "deletable": true,
    "editable": true
   },
   "source": [
    "## Read from Binance"
   ]
  },
  {
   "cell_type": "code",
   "execution_count": 4,
   "metadata": {
    "collapsed": false,
    "deletable": true,
    "editable": true
   },
   "outputs": [
    {
     "name": "stderr",
     "output_type": "stream",
     "text": [
      "Processing: 100%|███████████████████████████████████████████████████████████████████████████████| 234/234 [00:00<00:00, 6153.59it/s]\n"
     ]
    }
   ],
   "source": [
    "binanceClient = Client(\"\", \"\")\n",
    "\n",
    "symbols = binanceClient.get_orderbook_tickers()\n",
    "\n",
    "products = binanceClient.get_products()['data']\n",
    "\n",
    "binance = {}\n",
    "\n",
    "pbar = tqdm(range(len(symbols)))\n",
    "pbar.set_description('Processing')\n",
    "\n",
    "for j in pbar:\n",
    "    symbol = symbols[j]\n",
    "    \n",
    "    # TODO - Get withdrawal fee - Not working\n",
    "    for d in products:\n",
    "        if d['symbol'] == symbol['symbol']:\n",
    "            currency = d\n",
    "    \n",
    "    try:\n",
    "        ask = float(symbol['askPrice'])\n",
    "    except:\n",
    "        ask = 0.0\n",
    "    try:\n",
    "        bid = float(symbol['bidPrice'])\n",
    "    except:\n",
    "        bid = 0.0\n",
    "        \n",
    "    if 'BCC' in symbol['symbol']:\n",
    "            symbol['symbol'] = symbol['symbol'].replace('BCC', 'BCH')\n",
    "        \n",
    "    binance[symbol['symbol']] = {'ask':ask,'bid':bid, 'base':symbol['symbol'][-3:],\n",
    "                                 'payinEnabled':True,\n",
    "                                 'payoutEnabled':True,\n",
    "                                 'takerFee':'0.001',\n",
    "                                 'withdrawalFee': currency['withdrawFee']}\n",
    "        \n",
    "exchanges['binance'] = binance"
   ]
  },
  {
   "cell_type": "markdown",
   "metadata": {
    "deletable": true,
    "editable": true
   },
   "source": [
    "## All possible trades"
   ]
  },
  {
   "cell_type": "code",
   "execution_count": 5,
   "metadata": {
    "collapsed": false,
    "deletable": true,
    "editable": true
   },
   "outputs": [
    {
     "name": "stdout",
     "output_type": "stream",
     "text": [
      "{'coin': 'MAID', 'sell': 6.166e-05, 'buy': 7.19e-05, 'gain': 13.88, 'from': 'hitbtc', 'to': 'bittrex', 'base': 'BTC'}\n",
      "{'coin': 'RLC', 'sell': 8.842e-05, 'buy': 9.548e-05, 'gain': 5.46, 'from': 'bittrex', 'to': 'hitbtc', 'base': 'BTC'}\n"
     ]
    }
   ],
   "source": [
    "trades = list()\n",
    "\n",
    "for exchangeVenda in exchanges:\n",
    "    for coin in exchanges[exchangeVenda]:\n",
    "        for exchangeCompra in exchanges:\n",
    "            if exchangeVenda != exchangeCompra:\n",
    "                try:                   \n",
    "                    if exchanges[exchangeCompra][coin]['base'] == exchanges[exchangeVenda][coin]['base']:                      \n",
    "                        base = exchanges[exchangeVenda][coin]['base']\n",
    "                        \n",
    "                        priceSell = exchanges[exchangeVenda][coin]['ask'] # Price exchange is selling\n",
    "                        priceBuy = exchanges[exchangeCompra][coin]['bid'] # Price exchange is buying\n",
    "                        sellFee = float(exchanges[exchangeVenda][coin]['takerFee']) # Fee for the selling exchange\n",
    "                        buyFee = float(exchanges[exchangeCompra][coin]['takerFee']) # Fee for the buying exchange\n",
    "                        \n",
    "                        buy = btc/priceSell * (1-sellFee)       # Quantity of coin bought\n",
    "                        transfer = buy*(0.99)                   # Quantity of coin transfered after withdraw fee\n",
    "                        sell = transfer * priceBuy * (1-buyFee) # Quantity of coin sold\n",
    "                        transferBTC = sell*(0.99)               # Quantity of coin transfered back after withdraw fee\n",
    "\n",
    "                        gain = (transferBTC-btc)/btc            # Final gain\n",
    "                        \n",
    "                        if gain > 0.05:\n",
    "                            considerWithdraw = True            # False to show the coins with wallets in maintenance\n",
    "                            \n",
    "                            if considerWithdraw == True and \\\n",
    "                                exchanges[exchangeVenda][coin]['payoutEnabled'] == True and \\\n",
    "                                exchanges[exchangeCompra][coin]['payinEnabled'] == True:\n",
    "                                trades.append({'coin':coin.replace(base, ''),\n",
    "                                           'sell':priceSell,\n",
    "                                           'buy':priceBuy,\n",
    "                                           'gain':int(gain*10000)/100,\n",
    "                                           'from':exchangeVenda,\n",
    "                                           'to':exchangeCompra,\n",
    "                                           'base':base})\n",
    "                            elif considerWithdraw == False:\n",
    "                                trades.append({'coin':coin.replace(base, ''),\n",
    "                                           'sell':priceSell,\n",
    "                                           'buy':priceBuy,\n",
    "                                           'gain':int(gain*10000)/100,\n",
    "                                           'from':exchangeVenda,\n",
    "                                           'to':exchangeCompra,\n",
    "                                           'base':base})\n",
    "                except:\n",
    "                    ibis = 1\n",
    "    \n",
    "trades = sorted(trades, key=lambda k: k['gain'],reverse=True) \n",
    "\n",
    "for i in trades:\n",
    "    print(i)"
   ]
  },
  {
   "cell_type": "code",
   "execution_count": 6,
   "metadata": {
    "collapsed": false
   },
   "outputs": [
    {
     "name": "stdout",
     "output_type": "stream",
     "text": [
      "Preço de venda: 4.67e-06\n",
      "Quantidade venda: 178372.28352896\n",
      "Preço de compra: 4.6e-06\n",
      "Quantidade compra: 810100.0\n",
      "Minimo de transação:  178372.28352896\n",
      "19223.768736616705\n",
      "-35.004513076445086\n",
      "Ganho: -2.99\n"
     ]
    }
   ],
   "source": [
    "# Bittrex\n",
    "orderbook = bittrexClient.get_orderbook('BTC-DGB')['result']\n",
    "venda = float(orderbook['sell'][0]['Rate'])\n",
    "quantidadeVenda = float(orderbook['sell'][0]['Quantity'])\n",
    "print('Preço de venda:', venda)\n",
    "print('Quantidade venda:', quantidadeVenda)\n",
    "\n",
    "# HitBTC\n",
    "orderbook = hitbtcClient.get_orderbook('DGBBTC')\n",
    "compra = float(orderbook['bid'][0]['price'])\n",
    "quantidadeCompra = float(orderbook['bid'][0]['size'])\n",
    "print('Preço de compra:', compra)\n",
    "print('Quantidade compra:', quantidadeCompra)\n",
    "\n",
    "minVC = min(quantidadeCompra, quantidadeVenda)\n",
    "print('Minimo de transação: ', minVC)\n",
    "\n",
    "# Quantidade Inicial\n",
    "btc = 0.09\n",
    "\n",
    "buy = btc/venda * (1-0.25/100)\n",
    "print(buy)\n",
    "transfer = buy - 0.2\n",
    "sell = transfer * compra * (1-0.25/100)\n",
    "transferBTC = sell - 0.0009\n",
    "\n",
    "gain = (transferBTC-btc)/btc\n",
    "\n",
    "print((transferBTC-btc)*13000)\n",
    "\n",
    "print('Ganho:', int(gain * 10000)/100)"
   ]
  },
  {
   "cell_type": "code",
   "execution_count": 7,
   "metadata": {
    "collapsed": false
   },
   "outputs": [
    {
     "name": "stdout",
     "output_type": "stream",
     "text": [
      "Preço de venda: 4.67e-06\n",
      "Preço de compra: 4.6e-06\n",
      "19223.768736616705\n",
      "Ganho: -2.99\n"
     ]
    }
   ],
   "source": [
    "# Bittrex\n",
    "orderbook = bittrexClient.get_ticker('BTC-DGB')['result']\n",
    "venda = float(orderbook['Ask'])\n",
    "print('Preço de venda:', venda)\n",
    "\n",
    "# HitBTC\n",
    "orderbook = hitbtcClient.get_ticker('DGBBTC')\n",
    "compra = float(orderbook['bid'])\n",
    "print('Preço de compra:', compra)\n",
    "\n",
    "# Quantidade Inicial\n",
    "btc = 0.09\n",
    "buy = btc/venda * (1-0.25/100)\n",
    "print(buy)\n",
    "transfer = buy - 0.2\n",
    "sell = transfer * compra * (1-0.25/100)\n",
    "transferBTC = sell - 0.0009\n",
    "\n",
    "gain = (transferBTC-btc)/btc\n",
    "\n",
    "print('Ganho:', int(gain * 10000)/100)"
   ]
  },
  {
   "cell_type": "code",
   "execution_count": 8,
   "metadata": {
    "collapsed": false
   },
   "outputs": [
    {
     "name": "stdout",
     "output_type": "stream",
     "text": [
      "Preço de compra: 4.907e-06\n",
      "Preço de venda: 2.29e-06\n",
      "43558.951965065506\n",
      "Ganho: 112.62\n"
     ]
    }
   ],
   "source": [
    "# HitBTC\n",
    "orderbook = hitbtcClient.get_ticker('SCBTC')\n",
    "compra = float(orderbook['bid'])\n",
    "print('Preço de compra:', compra)\n",
    "\n",
    "# Bittrex\n",
    "orderbook = bittrexClient.get_ticker('BTC-SC')['result']\n",
    "venda = float(orderbook['Ask'])\n",
    "print('Preço de venda:', venda)\n",
    "\n",
    "# Quantidade Inicial\n",
    "btc = 0.1\n",
    "buy = btc/venda * (1-0.25/100)\n",
    "print(buy)\n",
    "transfer = buy - 0.01\n",
    "sell = transfer * compra * (1-0.1/100)\n",
    "transferBTC = sell - 0.0009\n",
    "\n",
    "gain = (transferBTC-btc)/btc\n",
    "\n",
    "print('Ganho:', int(gain * 10000)/100)"
   ]
  },
  {
   "cell_type": "code",
   "execution_count": 9,
   "metadata": {
    "collapsed": false
   },
   "outputs": [
    {
     "name": "stdout",
     "output_type": "stream",
     "text": [
      "Preço de venda: 5.152e-06\n"
     ]
    },
    {
     "ename": "TypeError",
     "evalue": "get_order_book() takes 1 positional argument but 2 were given",
     "output_type": "error",
     "traceback": [
      "\u001b[1;31m---------------------------------------------------------------------------\u001b[0m",
      "\u001b[1;31mTypeError\u001b[0m                                 Traceback (most recent call last)",
      "\u001b[1;32m<ipython-input-9-7ebb8471ad57>\u001b[0m in \u001b[0;36m<module>\u001b[1;34m()\u001b[0m\n\u001b[0;32m      5\u001b[0m \u001b[1;33m\u001b[0m\u001b[0m\n\u001b[0;32m      6\u001b[0m \u001b[1;31m# Binance\u001b[0m\u001b[1;33m\u001b[0m\u001b[1;33m\u001b[0m\u001b[0m\n\u001b[1;32m----> 7\u001b[1;33m \u001b[0morderbook\u001b[0m \u001b[1;33m=\u001b[0m \u001b[0mbinanceClient\u001b[0m\u001b[1;33m.\u001b[0m\u001b[0mget_order_book\u001b[0m\u001b[1;33m(\u001b[0m\u001b[1;34m'BNBBTC'\u001b[0m\u001b[1;33m)\u001b[0m\u001b[1;33m\u001b[0m\u001b[0m\n\u001b[0m\u001b[0;32m      8\u001b[0m \u001b[0mprint\u001b[0m\u001b[1;33m(\u001b[0m\u001b[0morderbook\u001b[0m\u001b[1;33m)\u001b[0m\u001b[1;33m\u001b[0m\u001b[0m\n\u001b[0;32m      9\u001b[0m \u001b[0mvenda\u001b[0m \u001b[1;33m=\u001b[0m \u001b[0mfloat\u001b[0m\u001b[1;33m(\u001b[0m\u001b[0morderbook\u001b[0m\u001b[1;33m[\u001b[0m\u001b[1;34m'Ask'\u001b[0m\u001b[1;33m]\u001b[0m\u001b[1;33m)\u001b[0m\u001b[1;33m\u001b[0m\u001b[0m\n",
      "\u001b[1;31mTypeError\u001b[0m: get_order_book() takes 1 positional argument but 2 were given"
     ]
    }
   ],
   "source": [
    "# HitBTC\n",
    "orderbook = hitbtcClient.get_ticker('SCBTC')\n",
    "venda = float(orderbook['ask'])\n",
    "print('Preço de venda:', venda)\n",
    "\n",
    "# Binance\n",
    "orderbook = binanceClient.get_order_book('BNBBTC')\n",
    "print(orderbook)\n",
    "venda = float(orderbook['Ask'])\n",
    "print('Preço de venda:', venda)\n",
    "\n",
    "# Quantidade Inicial\n",
    "btc = 0.1\n",
    "buy = btc/venda * (1-0.25/100)\n",
    "print(buy)\n",
    "transfer = buy - 0.01\n",
    "sell = transfer * compra * (1-0.1/100)\n",
    "transferBTC = sell - 0.0009\n",
    "\n",
    "gain = (transferBTC-btc)/btc\n",
    "\n",
    "print('Ganho:', int(gain * 10000)/100)"
   ]
  }
 ],
 "metadata": {
  "kernelspec": {
   "display_name": "Python 3",
   "language": "python",
   "name": "python3"
  },
  "language_info": {
   "codemirror_mode": {
    "name": "ipython",
    "version": 3
   },
   "file_extension": ".py",
   "mimetype": "text/x-python",
   "name": "python",
   "nbconvert_exporter": "python",
   "pygments_lexer": "ipython3",
   "version": "3.6.0"
  }
 },
 "nbformat": 4,
 "nbformat_minor": 2
}
