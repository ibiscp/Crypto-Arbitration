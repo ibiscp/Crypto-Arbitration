{
 "cells": [
  {
   "cell_type": "code",
   "execution_count": 2,
   "metadata": {
    "collapsed": true
   },
   "outputs": [],
   "source": [
    "from tqdm import tqdm\n",
    "from hitbtc import Hitbtc\n",
    "from urllib.request import urlopen\n",
    "from bittrex.bittrex import Bittrex\n",
    "from bitfinex import Bitfinex\n",
    "import krakenex\n",
    "from binance.client import Client\n",
    "\n",
    "bittrexClient = Bittrex(None, None)  # or defaulting to v1.1 as Bittrex(None, None)\n",
    "binanceClient = Client(\"\", \"\")"
   ]
  },
  {
   "cell_type": "markdown",
   "metadata": {},
   "source": [
    "### Binance"
   ]
  },
  {
   "cell_type": "code",
   "execution_count": 23,
   "metadata": {
    "collapsed": false
   },
   "outputs": [
    {
     "data": {
      "text/plain": [
       "{'ask': 0.054651,\n",
       " 'bid': 0.05458,\n",
       " 'quantAsk': 1.886,\n",
       " 'quantBid': 0.414,\n",
       " 'takerFee': 0.001}"
      ]
     },
     "execution_count": 23,
     "metadata": {},
     "output_type": "execute_result"
    }
   ],
   "source": [
    "def get_binance(sym='ETHBTC'):\n",
    "    orderbook = binanceClient.get_order_book(symbol=sym)\n",
    "    \n",
    "    ask = float(orderbook['asks'][0][0])\n",
    "    quantAsk = float(orderbook['asks'][0][1])\n",
    "    bid = float(orderbook['bids'][0][0])\n",
    "    quantBid = float(orderbook['bids'][0][1])\n",
    "    \n",
    "    binance = {'ask':ask, 'quantAsk':quantAsk, 'bid':bid, 'quantBid':quantBid, 'takerFee':0.001}\n",
    "    return binance\n",
    "\n",
    "binance = get_binance()\n",
    "binance"
   ]
  },
  {
   "cell_type": "markdown",
   "metadata": {},
   "source": [
    "### Bittrex"
   ]
  },
  {
   "cell_type": "code",
   "execution_count": 24,
   "metadata": {
    "collapsed": false
   },
   "outputs": [
    {
     "data": {
      "text/plain": [
       "{'ask': 0.05452,\n",
       " 'bid': 0.054489,\n",
       " 'quantAsk': 4.66658101,\n",
       " 'quantBid': 0.04342731,\n",
       " 'takerFee': 0.0025}"
      ]
     },
     "execution_count": 24,
     "metadata": {},
     "output_type": "execute_result"
    }
   ],
   "source": [
    "def get_bittrex(sym='BTC-ETH'):\n",
    "    orderbook = bittrexClient.get_orderbook(sym)['result']\n",
    "    \n",
    "    ask = float(orderbook['sell'][0]['Rate'])\n",
    "    quantAsk = float(orderbook['sell'][0]['Quantity'])\n",
    "    bid = float(orderbook['buy'][0]['Rate'])\n",
    "    quantBid = float(orderbook['buy'][0]['Quantity'])\n",
    "    \n",
    "    bittrex = {'ask':ask, 'quantAsk':quantAsk, 'bid':bid, 'quantBid':quantBid, 'takerFee':0.0025}\n",
    "    return bittrex\n",
    "\n",
    "bittrex = get_bittrex()\n",
    "bittrex"
   ]
  },
  {
   "cell_type": "markdown",
   "metadata": {},
   "source": [
    "### Make the magic happen"
   ]
  },
  {
   "cell_type": "code",
   "execution_count": 43,
   "metadata": {
    "collapsed": false
   },
   "outputs": [
    {
     "name": "stdout",
     "output_type": "stream",
     "text": [
      "1\n",
      "2\n",
      "3\n",
      "4\n",
      "5\n",
      "6\n",
      "7\n",
      "8\n",
      "9\n",
      "10\n",
      "11\n",
      "12\n",
      "13\n",
      "14\n",
      "15\n",
      "16\n"
     ]
    },
    {
     "ename": "KeyboardInterrupt",
     "evalue": "",
     "output_type": "error",
     "traceback": [
      "\u001b[1;31m---------------------------------------------------------------------------\u001b[0m",
      "\u001b[1;31mKeyboardInterrupt\u001b[0m                         Traceback (most recent call last)",
      "\u001b[1;32m<ipython-input-43-7af96eeb1632>\u001b[0m in \u001b[0;36m<module>\u001b[1;34m()\u001b[0m\n\u001b[0;32m     45\u001b[0m             \u001b[0mprint\u001b[0m\u001b[1;33m(\u001b[0m\u001b[1;33m)\u001b[0m\u001b[1;33m\u001b[0m\u001b[0m\n\u001b[0;32m     46\u001b[0m \u001b[1;33m\u001b[0m\u001b[0m\n\u001b[1;32m---> 47\u001b[1;33m \u001b[0mdo_magic\u001b[0m\u001b[1;33m(\u001b[0m\u001b[1;33m)\u001b[0m\u001b[1;33m\u001b[0m\u001b[0m\n\u001b[0m",
      "\u001b[1;32m<ipython-input-43-7af96eeb1632>\u001b[0m in \u001b[0;36mdo_magic\u001b[1;34m()\u001b[0m\n\u001b[0;32m     14\u001b[0m \u001b[1;33m\u001b[0m\u001b[0m\n\u001b[0;32m     15\u001b[0m         \u001b[0mbinance\u001b[0m \u001b[1;33m=\u001b[0m \u001b[0mget_binance\u001b[0m\u001b[1;33m(\u001b[0m\u001b[1;33m)\u001b[0m\u001b[1;33m\u001b[0m\u001b[0m\n\u001b[1;32m---> 16\u001b[1;33m         \u001b[0mbittrex\u001b[0m \u001b[1;33m=\u001b[0m \u001b[0mget_bittrex\u001b[0m\u001b[1;33m(\u001b[0m\u001b[1;33m)\u001b[0m\u001b[1;33m\u001b[0m\u001b[0m\n\u001b[0m\u001b[0;32m     17\u001b[0m \u001b[1;33m\u001b[0m\u001b[0m\n\u001b[0;32m     18\u001b[0m         \u001b[1;31m# Compra na bittrex e vende na binance\u001b[0m\u001b[1;33m\u001b[0m\u001b[1;33m\u001b[0m\u001b[0m\n",
      "\u001b[1;32m<ipython-input-24-2581ac58809c>\u001b[0m in \u001b[0;36mget_bittrex\u001b[1;34m(sym)\u001b[0m\n\u001b[0;32m      1\u001b[0m \u001b[1;32mdef\u001b[0m \u001b[0mget_bittrex\u001b[0m\u001b[1;33m(\u001b[0m\u001b[0msym\u001b[0m\u001b[1;33m=\u001b[0m\u001b[1;34m'BTC-ETH'\u001b[0m\u001b[1;33m)\u001b[0m\u001b[1;33m:\u001b[0m\u001b[1;33m\u001b[0m\u001b[0m\n\u001b[1;32m----> 2\u001b[1;33m     \u001b[0morderbook\u001b[0m \u001b[1;33m=\u001b[0m \u001b[0mbittrexClient\u001b[0m\u001b[1;33m.\u001b[0m\u001b[0mget_orderbook\u001b[0m\u001b[1;33m(\u001b[0m\u001b[0msym\u001b[0m\u001b[1;33m)\u001b[0m\u001b[1;33m[\u001b[0m\u001b[1;34m'result'\u001b[0m\u001b[1;33m]\u001b[0m\u001b[1;33m\u001b[0m\u001b[0m\n\u001b[0m\u001b[0;32m      3\u001b[0m \u001b[1;33m\u001b[0m\u001b[0m\n\u001b[0;32m      4\u001b[0m     \u001b[0mask\u001b[0m \u001b[1;33m=\u001b[0m \u001b[0mfloat\u001b[0m\u001b[1;33m(\u001b[0m\u001b[0morderbook\u001b[0m\u001b[1;33m[\u001b[0m\u001b[1;34m'sell'\u001b[0m\u001b[1;33m]\u001b[0m\u001b[1;33m[\u001b[0m\u001b[1;36m0\u001b[0m\u001b[1;33m]\u001b[0m\u001b[1;33m[\u001b[0m\u001b[1;34m'Rate'\u001b[0m\u001b[1;33m]\u001b[0m\u001b[1;33m)\u001b[0m\u001b[1;33m\u001b[0m\u001b[0m\n\u001b[0;32m      5\u001b[0m     \u001b[0mquantAsk\u001b[0m \u001b[1;33m=\u001b[0m \u001b[0mfloat\u001b[0m\u001b[1;33m(\u001b[0m\u001b[0morderbook\u001b[0m\u001b[1;33m[\u001b[0m\u001b[1;34m'sell'\u001b[0m\u001b[1;33m]\u001b[0m\u001b[1;33m[\u001b[0m\u001b[1;36m0\u001b[0m\u001b[1;33m]\u001b[0m\u001b[1;33m[\u001b[0m\u001b[1;34m'Quantity'\u001b[0m\u001b[1;33m]\u001b[0m\u001b[1;33m)\u001b[0m\u001b[1;33m\u001b[0m\u001b[0m\n",
      "\u001b[1;32mc:\\users\\ibisc\\miniconda3\\lib\\site-packages\\bittrex\\bittrex.py\u001b[0m in \u001b[0;36mget_orderbook\u001b[1;34m(self, market, depth_type)\u001b[0m\n\u001b[0;32m    284\u001b[0m             \u001b[0mAPI_V1_1\u001b[0m\u001b[1;33m:\u001b[0m \u001b[1;34m'/public/getorderbook'\u001b[0m\u001b[1;33m,\u001b[0m\u001b[1;33m\u001b[0m\u001b[0m\n\u001b[0;32m    285\u001b[0m             \u001b[0mAPI_V2_0\u001b[0m\u001b[1;33m:\u001b[0m \u001b[1;34m'/pub/Market/GetMarketOrderBook'\u001b[0m\u001b[1;33m\u001b[0m\u001b[0m\n\u001b[1;32m--> 286\u001b[1;33m         }, options={'market': market, 'marketname': market, 'type': depth_type}, protection=PROTECTION_PUB)\n\u001b[0m\u001b[0;32m    287\u001b[0m \u001b[1;33m\u001b[0m\u001b[0m\n\u001b[0;32m    288\u001b[0m     \u001b[1;32mdef\u001b[0m \u001b[0mget_market_history\u001b[0m\u001b[1;33m(\u001b[0m\u001b[0mself\u001b[0m\u001b[1;33m,\u001b[0m \u001b[0mmarket\u001b[0m\u001b[1;33m)\u001b[0m\u001b[1;33m:\u001b[0m\u001b[1;33m\u001b[0m\u001b[0m\n",
      "\u001b[1;32mc:\\users\\ibisc\\miniconda3\\lib\\site-packages\\bittrex\\bittrex.py\u001b[0m in \u001b[0;36m_api_query\u001b[1;34m(self, protection, path_dict, options)\u001b[0m\n\u001b[0;32m    149\u001b[0m                                hashlib.sha512).hexdigest()\n\u001b[0;32m    150\u001b[0m \u001b[1;33m\u001b[0m\u001b[0m\n\u001b[1;32m--> 151\u001b[1;33m             \u001b[0mself\u001b[0m\u001b[1;33m.\u001b[0m\u001b[0mwait\u001b[0m\u001b[1;33m(\u001b[0m\u001b[1;33m)\u001b[0m\u001b[1;33m\u001b[0m\u001b[0m\n\u001b[0m\u001b[0;32m    152\u001b[0m \u001b[1;33m\u001b[0m\u001b[0m\n\u001b[0;32m    153\u001b[0m             \u001b[1;32mreturn\u001b[0m \u001b[0mself\u001b[0m\u001b[1;33m.\u001b[0m\u001b[0mdispatch\u001b[0m\u001b[1;33m(\u001b[0m\u001b[0mrequest_url\u001b[0m\u001b[1;33m,\u001b[0m \u001b[0mapisign\u001b[0m\u001b[1;33m)\u001b[0m\u001b[1;33m\u001b[0m\u001b[0m\n",
      "\u001b[1;32mc:\\users\\ibisc\\miniconda3\\lib\\site-packages\\bittrex\\bittrex.py\u001b[0m in \u001b[0;36mwait\u001b[1;34m(self)\u001b[0m\n\u001b[0;32m    114\u001b[0m             \u001b[1;32mif\u001b[0m \u001b[0mpassed\u001b[0m \u001b[1;33m<\u001b[0m \u001b[0mself\u001b[0m\u001b[1;33m.\u001b[0m\u001b[0mcall_rate\u001b[0m\u001b[1;33m:\u001b[0m\u001b[1;33m\u001b[0m\u001b[0m\n\u001b[0;32m    115\u001b[0m                 \u001b[1;31m# print(\"sleep\")\u001b[0m\u001b[1;33m\u001b[0m\u001b[1;33m\u001b[0m\u001b[0m\n\u001b[1;32m--> 116\u001b[1;33m                 \u001b[0mtime\u001b[0m\u001b[1;33m.\u001b[0m\u001b[0msleep\u001b[0m\u001b[1;33m(\u001b[0m\u001b[0mself\u001b[0m\u001b[1;33m.\u001b[0m\u001b[0mcall_rate\u001b[0m \u001b[1;33m-\u001b[0m \u001b[0mpassed\u001b[0m\u001b[1;33m)\u001b[0m\u001b[1;33m\u001b[0m\u001b[0m\n\u001b[0m\u001b[0;32m    117\u001b[0m \u001b[1;33m\u001b[0m\u001b[0m\n\u001b[0;32m    118\u001b[0m             \u001b[0mself\u001b[0m\u001b[1;33m.\u001b[0m\u001b[0mlast_call\u001b[0m \u001b[1;33m=\u001b[0m \u001b[0mtime\u001b[0m\u001b[1;33m.\u001b[0m\u001b[0mtime\u001b[0m\u001b[1;33m(\u001b[0m\u001b[1;33m)\u001b[0m\u001b[1;33m\u001b[0m\u001b[0m\n",
      "\u001b[1;31mKeyboardInterrupt\u001b[0m: "
     ]
    }
   ],
   "source": [
    "def do_magic():\n",
    "    binanceBTC = 0.1\n",
    "    binanceETH = 0.01\n",
    "\n",
    "    bittrexBTC = 0.1\n",
    "    bittrexETH = 0.01\n",
    "    \n",
    "    pbar = tqdm(range(10000))\n",
    "    pbar.set_description('Processing')\n",
    "    \n",
    "    for i in pbar:\n",
    "        \n",
    "        binance = get_binance()\n",
    "        bittrex = get_bittrex()\n",
    "        \n",
    "        # Compra na bittrex e vende na binance\n",
    "        if (binance['bid'] > bittrex['ask'] * (1 + binance['takerFee'] + bittrex['takerFee'])):\n",
    "            bid = binance['bid'] # Pessoas comprando\n",
    "            ask = bittrex['ask'] # Pessoas vendendo\n",
    "            quant = min(binance['quantBid'],bittrex['quantAsk'],binanceETH)\n",
    "\n",
    "            binanceETH -= quant\n",
    "            binanceBTC += quant * bid * (1 - binance['takerFee'])\n",
    "            bittrexETH += quant * ask\n",
    "            bittrexBTC -= quant * (1 - bittrex['takerFee'])\n",
    "            \n",
    "            print('Total ETH: ', bittrexETH+binanceETH)\n",
    "            print('Total BTC: ', binanceBTC+bittrexBTC)\n",
    "            print()\n",
    "\n",
    "        elif (bittrex['bid'] > binance['ask'] * (1 + binance['takerFee'] + bittrex['takerFee'])):\n",
    "            bid = bittrex['bid'] # Pessoas comprando\n",
    "            ask = binance['ask'] # Pessoas vendendo\n",
    "            quant = min(bittrex['quantBid'],binance['quantAsk'],bittrexETH)\n",
    "\n",
    "            bittrexETH -= quant * (1 - bittrex['takerFee'])\n",
    "            bittrexBTC += quant * bid\n",
    "            binanceETH += quant * ask * (1 - binance['takerFee'])\n",
    "            binanceBTC -= quant\n",
    "\n",
    "            print('Total ETH: ', bittrexETH+binanceETH)\n",
    "            print('Total BTC: ', binanceBTC+bittrexBTC)\n",
    "            print()\n",
    "        \n",
    "do_magic()"
   ]
  },
  {
   "cell_type": "code",
   "execution_count": 42,
   "metadata": {
    "collapsed": false
   },
   "outputs": [
    {
     "name": "stdout",
     "output_type": "stream",
     "text": [
      "Binance bid:  0.054972\n",
      "Bittrex ask:  0.0549\n",
      "Bittrex calc:  0.055092149999999986\n"
     ]
    }
   ],
   "source": [
    "binance = get_binance()\n",
    "bittrex = get_bittrex()\n",
    "        \n",
    "        # Compra na bittrex e vende na binance\n",
    "print('Binance bid: ', binance['bid'])\n",
    "print('Bittrex ask: ', bittrex['ask'])\n",
    "print('Bittrex calc: ', bittrex['ask'] * (1 + binance['takerFee'] + bittrex['takerFee']))"
   ]
  }
 ],
 "metadata": {
  "kernelspec": {
   "display_name": "Python 3",
   "language": "python",
   "name": "python3"
  },
  "language_info": {
   "codemirror_mode": {
    "name": "ipython",
    "version": 3
   },
   "file_extension": ".py",
   "mimetype": "text/x-python",
   "name": "python",
   "nbconvert_exporter": "python",
   "pygments_lexer": "ipython3",
   "version": "3.6.0"
  }
 },
 "nbformat": 4,
 "nbformat_minor": 2
}
