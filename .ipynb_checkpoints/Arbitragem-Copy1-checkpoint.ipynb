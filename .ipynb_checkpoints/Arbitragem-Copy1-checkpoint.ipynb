{
 "cells": [
  {
   "cell_type": "code",
   "execution_count": 1,
   "metadata": {
    "collapsed": false,
    "deletable": true,
    "editable": true
   },
   "outputs": [],
   "source": [
    "from tqdm import tqdm\n",
    "from hitbtc import Hitbtc\n",
    "from urllib.request import urlopen\n",
    "from bittrex.bittrex import Bittrex\n",
    "from bitfinex import Bitfinex\n",
    "import krakenex\n",
    "\n",
    "exchanges = {}\n",
    "btc = 0.01"
   ]
  },
  {
   "cell_type": "markdown",
   "metadata": {
    "deletable": true,
    "editable": true
   },
   "source": [
    "## Read from HitBTC"
   ]
  },
  {
   "cell_type": "code",
   "execution_count": 2,
   "metadata": {
    "collapsed": false,
    "deletable": true,
    "editable": true
   },
   "outputs": [
    {
     "name": "stderr",
     "output_type": "stream",
     "text": [
      "Processing: 100%|███████████████████████████████████████████████████████████████████████████████| 425/425 [00:00<00:00, 8012.02it/s]\n"
     ]
    }
   ],
   "source": [
    "hitbtcClient = Hitbtc(None, None)\n",
    "\n",
    "tickers = hitbtcClient.get_tickers()\n",
    "currencies = hitbtcClient.get_currencies()\n",
    "symbols = hitbtcClient.get_symbol('')\n",
    "\n",
    "hitbtc = {}\n",
    "\n",
    "pbar = tqdm(range(len(tickers)))\n",
    "pbar.set_description('Processing')\n",
    "\n",
    "for j in pbar:\n",
    "    tick = tickers[j]\n",
    "    \n",
    "    for d in currencies:\n",
    "        if d['id'] == tick['symbol'][0:-3]:\n",
    "            currency = d\n",
    "            \n",
    "    for d in symbols:\n",
    "        if d['id'] == tick['symbol']:\n",
    "            symbol = d\n",
    "    \n",
    "    try:\n",
    "        ask = float(tick['ask'])\n",
    "    except:\n",
    "        ask = 0.0\n",
    "    try:\n",
    "        bid = float(tick['bid'])\n",
    "    except:\n",
    "        bid = 0.0\n",
    "        \n",
    "    hitbtc[tick['symbol']]={'ask':ask,'bid':bid, 'base':tick['symbol'][-3:],\n",
    "                            'payinEnabled':currency['payinEnabled'],\n",
    "                            'payoutEnabled':currency['payoutEnabled'],\n",
    "                            'takerFee':symbol['takeLiquidityRate'],\n",
    "                           'withdrawalFee':None}\n",
    "    # TODO - withdraw fee not yet implemented on API\n",
    "        \n",
    "exchanges['hitbtc'] = hitbtc"
   ]
  },
  {
   "cell_type": "markdown",
   "metadata": {
    "deletable": true,
    "editable": true
   },
   "source": [
    "## Read from Bittrex"
   ]
  },
  {
   "cell_type": "code",
   "execution_count": 3,
   "metadata": {
    "collapsed": false,
    "deletable": true,
    "editable": true
   },
   "outputs": [
    {
     "name": "stderr",
     "output_type": "stream",
     "text": [
      "Processing: 100%|███████████████████████████████████████████████████████████████████████████████| 266/266 [00:00<00:00, 6563.28it/s]\n"
     ]
    }
   ],
   "source": [
    "bittrexClient = Bittrex(None, None)  # or defaulting to v1.1 as Bittrex(None, None)\n",
    "symbols = bittrexClient.get_market_summaries()['result']\n",
    "currencies = bittrexClient.get_currencies()['result']\n",
    "\n",
    "bittrex = {}\n",
    "\n",
    "pbar = tqdm(range(len(symbols)))\n",
    "pbar.set_description('Processing')\n",
    "\n",
    "for j in pbar:\n",
    "    symbol = symbols[j]\n",
    "    \n",
    "    names = symbol['MarketName'].split('-')\n",
    "    \n",
    "    # Get withdrawal fee\n",
    "    for d in currencies:\n",
    "        if d['Currency'] == names[1]:\n",
    "            currency = d\n",
    "\n",
    "    try:\n",
    "        ask = float(symbol['Ask'])\n",
    "    except:\n",
    "        ask = 0.0\n",
    "    try:\n",
    "        bid = float(symbol['Bid'])\n",
    "    except:\n",
    "        bid = 0.0\n",
    "    \n",
    "    # Casos a parte\n",
    "    if names[1] == 'BCC':\n",
    "        names[1] = 'BCH'\n",
    "        \n",
    "    bittrex[names[1]+names[0]] = {'ask':ask,'bid':bid, 'base':names[0],\n",
    "                                  'payinEnabled':True,\n",
    "                                  'payoutEnabled':True,\n",
    "                                 'takerFee':'0.0025',\n",
    "                                 'withdrawalFee': currency['TxFee']}\n",
    "    \n",
    "exchanges['bittrex'] = bittrex"
   ]
  },
  {
   "cell_type": "markdown",
   "metadata": {
    "deletable": true,
    "editable": true
   },
   "source": [
    "## Read from Binance"
   ]
  },
  {
   "cell_type": "code",
   "execution_count": 4,
   "metadata": {
    "collapsed": false,
    "deletable": true,
    "editable": true
   },
   "outputs": [
    {
     "name": "stderr",
     "output_type": "stream",
     "text": [
      "Processing: 100%|███████████████████████████████████████████████████████████████████████████████| 231/231 [00:00<00:00, 7568.88it/s]\n"
     ]
    }
   ],
   "source": [
    "from binance.client import Client\n",
    "binanceClient = Client(\"\", \"\")\n",
    "\n",
    "symbols = binanceClient.get_orderbook_tickers()\n",
    "\n",
    "products = binanceClient.get_products()['data']\n",
    "\n",
    "binance = {}\n",
    "\n",
    "pbar = tqdm(range(len(symbols)))\n",
    "pbar.set_description('Processing')\n",
    "\n",
    "for j in pbar:\n",
    "    symbol = symbols[j]\n",
    "    \n",
    "    # TODO - Get withdrawal fee - Not working\n",
    "    for d in products:\n",
    "        if d['symbol'] == symbol['symbol']:\n",
    "            currency = d\n",
    "    \n",
    "    try:\n",
    "        ask = float(symbol['askPrice'])\n",
    "    except:\n",
    "        ask = 0.0\n",
    "    try:\n",
    "        bid = float(symbol['bidPrice'])\n",
    "    except:\n",
    "        bid = 0.0\n",
    "        \n",
    "    if 'BCC' in symbol['symbol']:\n",
    "            symbol['symbol'] = symbol['symbol'].replace('BCC', 'BCH')\n",
    "        \n",
    "    binance[symbol['symbol']] = {'ask':ask,'bid':bid, 'base':symbol['symbol'][-3:],\n",
    "                                 'payinEnabled':True,\n",
    "                                 'payoutEnabled':True,\n",
    "                                 'takerFee':'0.001',\n",
    "                                 'withdrawalFee': currency['withdrawFee']}\n",
    "        \n",
    "exchanges['binance'] = binance"
   ]
  },
  {
   "cell_type": "markdown",
   "metadata": {
    "deletable": true,
    "editable": true
   },
   "source": [
    "## All possible transactions"
   ]
  },
  {
   "cell_type": "code",
   "execution_count": 5,
   "metadata": {
    "collapsed": false,
    "deletable": true,
    "editable": true
   },
   "outputs": [
    {
     "name": "stdout",
     "output_type": "stream",
     "text": [
      "{'coin': 'MAID', 'sell': 6.257e-05, 'buy': 6.985e-05, 'gain': 9.03, 'from': 'hitbtc', 'to': 'bittrex', 'base': 'BTC'}\n"
     ]
    }
   ],
   "source": [
    "trades = list()\n",
    "\n",
    "for exchangeVenda in exchanges:\n",
    "    for coin in exchanges[exchangeVenda]:\n",
    "        for exchangeCompra in exchanges:\n",
    "            if exchangeVenda != exchangeCompra:\n",
    "                try:                   \n",
    "                    if exchanges[exchangeCompra][coin]['base'] == exchanges[exchangeVenda][coin]['base']:                      \n",
    "                        base = exchanges[exchangeVenda][coin]['base']\n",
    "                        \n",
    "                        priceSell = exchanges[exchangeVenda][coin]['ask'] # Price exchange is selling\n",
    "                        priceBuy = exchanges[exchangeCompra][coin]['bid'] # Price exchange is buying\n",
    "                        sellFee = float(exchanges[exchangeVenda][coin]['takerFee']) # Fee for the selling exchange\n",
    "                        buyFee = float(exchanges[exchangeCompra][coin]['takerFee']) # Fee for the buying exchange\n",
    "                        \n",
    "                        buy = btc/priceSell * (1-sellFee)       # Quantity of coin bought\n",
    "                        transfer = buy*(0.99)                   # Quantity of coin transfered after withdraw fee\n",
    "                        sell = transfer * priceBuy * (1-buyFee) # Quantity of coin sold\n",
    "                        transferBTC = sell*(0.99)               # Quantity of coin transfered back after withdraw fee\n",
    "\n",
    "                        gain = (transferBTC-btc)/btc            # Final gain\n",
    "\n",
    "                        if gain > 0.00 and \\\n",
    "                            exchanges[exchangeVenda][coin]['payoutEnabled'] == True and \\\n",
    "                            exchanges[exchangeCompra][coin]['payinEnabled'] == True:\n",
    "                            trades.append({'coin':coin.replace(base, ''),\n",
    "                                           'sell':priceSell,\n",
    "                                           'buy':priceBuy,\n",
    "                                           'gain':int(gain*10000)/100,\n",
    "                                           'from':exchangeVenda,\n",
    "                                           'to':exchangeCompra,\n",
    "                                           'base':base})\n",
    "                except:\n",
    "                    ibis = 1\n",
    "    break\n",
    "    \n",
    "trades = sorted(trades, key=lambda k: k['gain'],reverse=True) \n",
    "\n",
    "for i in trades:\n",
    "    print(i)"
   ]
  },
  {
   "cell_type": "markdown",
   "metadata": {
    "deletable": true,
    "editable": true
   },
   "source": [
    "## Tests with coins"
   ]
  },
  {
   "cell_type": "code",
   "execution_count": null,
   "metadata": {
    "collapsed": false,
    "deletable": true,
    "editable": true
   },
   "outputs": [],
   "source": [
    "# HitBTC\n",
    "orderbook = hitbtcClient.get_ticker('AEONBTC')\n",
    "venda = float(orderbook['ask'])\n",
    "print('Preço de venda:', venda)\n",
    "\n",
    "# Bittrex\n",
    "orderbook = bittrexClient.get_ticker('BTC-AEON')['result']\n",
    "compra = float(orderbook['Bid'])\n",
    "print('Preço de compra:', compra)\n",
    "\n",
    "# Quantidade Inicial\n",
    "btc = 0.1\n",
    "buy = btc/venda * (1-0.25/100)\n",
    "print(buy)\n",
    "transfer = buy - 0.01\n",
    "sell = transfer * compra * (1-0.1/100)\n",
    "transferBTC = sell - 0.0009\n",
    "\n",
    "gain = (transferBTC-btc)/btc\n",
    "\n",
    "print('Ganho:', int(gain * 10000)/100)"
   ]
  },
  {
   "cell_type": "code",
   "execution_count": null,
   "metadata": {
    "collapsed": false,
    "deletable": true,
    "editable": true
   },
   "outputs": [],
   "source": [
    "# Bittrex\n",
    "orderbook = bittrexClient.get_ticker('BTC-DCT')['result']\n",
    "venda = float(orderbook['Ask'])\n",
    "print('Preço de venda:', venda)\n",
    "\n",
    "# HitBTC\n",
    "orderbook = hitbtcClient.get_ticker('DCTBTC')\n",
    "compra = float(orderbook['bid'])\n",
    "print('Preço de compra:', compra)\n",
    "\n",
    "# Quantidade Inicial\n",
    "btc = 0.01\n",
    "buy = btc/venda * (1-0.25/100)\n",
    "transfer = buy - 0.1\n",
    "sell = transfer * compra * (1-0.1/100)\n",
    "transferBTC = sell - 0.0009\n",
    "\n",
    "gain = (transferBTC-btc)/btc\n",
    "\n",
    "print('Ganho:', int(gain * 10000)/100)"
   ]
  },
  {
   "cell_type": "code",
   "execution_count": null,
   "metadata": {
    "collapsed": false,
    "deletable": true,
    "editable": true
   },
   "outputs": [],
   "source": [
    "# HitBTC\n",
    "orderbook = hitbtcClient.get_ticker('EVXBTC')\n",
    "venda = float(orderbook['ask'])\n",
    "print('Preço de venda:', venda)\n",
    "\n",
    "# Binance\n",
    "orderbook = binanceClient.get_order_book(symbol='EVXBTC')\n",
    "compra = float(orderbook['bids'][0][0])\n",
    "print('Preço de venda:', compra)\n",
    "\n",
    "# Quantidade Inicial\n",
    "btc = 0.01\n",
    "buy = btc/venda * (1-0.25/100)\n",
    "transfer = buy - 5.4\n",
    "sell = transfer * compra * (1-0.1/100)\n",
    "transferBTC = sell - 0.0009\n",
    "\n",
    "gain = (transferBTC-btc)/btc\n",
    "\n",
    "print('Ganho:', int(gain * 10000)/100)"
   ]
  },
  {
   "cell_type": "code",
   "execution_count": null,
   "metadata": {
    "collapsed": false,
    "deletable": true,
    "editable": true
   },
   "outputs": [],
   "source": [
    "# HitBTC\n",
    "orderbook = hitbtcClient.get_orderbook('TRSTBTC')\n",
    "compra = float(orderbook['bid'][0]['price'])\n",
    "print('Preço de compra:', compra)\n",
    "\n",
    "# Bittrex\n",
    "orderbook = bittrexClient.get_orderbook('BTC-TRST')['result']\n",
    "venda = float(orderbook['sell'][0]['Rate'])\n",
    "print('Preço de venda:', venda)\n",
    "\n",
    "# Quantidade Inicial\n",
    "btc = 0.01\n",
    "buy = btc/venda * (1-0.25/100)\n",
    "transfer = buy - 0.01\n",
    "sell = transfer * compra * (1-0.1/100)\n",
    "transferBTC = sell - 0.0009\n",
    "\n",
    "gain = (transferBTC-btc)/btc\n",
    "\n",
    "print('Ganho:', int(gain * 10000)/100)"
   ]
  },
  {
   "cell_type": "code",
   "execution_count": null,
   "metadata": {
    "collapsed": false,
    "deletable": true,
    "editable": true
   },
   "outputs": [],
   "source": [
    "# HitBTC\n",
    "orderbook = client.get_orderbook('DGBBTC')\n",
    "compra = float(orderbook['bid'][0]['price'])\n",
    "print('Preço de compra:', compra)\n",
    "\n",
    "# Bittrex\n",
    "orderbook = my_bittrex.get_orderbook('BTC-DGB')['result']\n",
    "venda = float(orderbook['sell'][0]['Rate'])\n",
    "print('Preço de venda:', venda)\n",
    "\n",
    "# Quantidade Inicial\n",
    "btc = 0.01\n",
    "buyXDN = btc/venda * (1-0.1/100)\n",
    "transferXDN = buyXDN - 0.01\n",
    "sellXDN = transferXDN * compra * (1-0.25/100)\n",
    "transferBTC = sellXDN - 0.001\n",
    "\n",
    "gain = (transferBTC-btc)/btc\n",
    "\n",
    "print(gain * 100)"
   ]
  },
  {
   "cell_type": "code",
   "execution_count": null,
   "metadata": {
    "collapsed": false,
    "deletable": true,
    "editable": true
   },
   "outputs": [],
   "source": [
    "# HitBTC\n",
    "orderbook = client.get_orderbook('XDNBTC')\n",
    "venda = orderbook['ask'][0]['price']\n",
    "venda = float(venda)\n",
    "\n",
    "# Bittrex\n",
    "response = urlopen('https://bittrex.com/api/v1.1/public/getorderbook?market=BTC-XDN&type=both')\n",
    "string = response.read().decode('utf-8')\n",
    "json_obj = json.loads(string)\n",
    "compra = json_obj['result']['buy'][0]['Rate']\n",
    "compra = float(compra)\n",
    "\n",
    "# Quantidade Inicial\n",
    "btc = 0.01\n",
    "buyXDN = btc/venda * (1-0.1/100)\n",
    "transferXDN = buyXDN - 0.01\n",
    "sellXDN = transferXDN * compra * (1-0.25/100)\n",
    "transferBTC = sellXDN - 0.001\n",
    "\n",
    "gain = (transferBTC-btc)/btc\n",
    "\n",
    "print(gain * 100)"
   ]
  },
  {
   "cell_type": "markdown",
   "metadata": {
    "deletable": true,
    "editable": true
   },
   "source": [
    "## Bitfinex (não utilizado pq ainda não tenho conta)"
   ]
  },
  {
   "cell_type": "markdown",
   "metadata": {
    "deletable": true,
    "editable": true
   },
   "source": [
    "bfx = Bitfinex(None, None)\n",
    "\n",
    "symbols = bfx.pairs()\n",
    "\n",
    "bitfinex = {}\n",
    "\n",
    "pbar = tqdm(range(len(symbols)))\n",
    "pbar.set_description('Processing')\n",
    "\n",
    "for j in pbar:\n",
    "    symbol = symbols[j]\n",
    "\n",
    "    print(symbol)\n",
    "    orderbook = bfx.orderbook(symbol)\n",
    "    try:\n",
    "        ask = float(orderbook['ask'][0]['price'])\n",
    "    except:\n",
    "        ask = 0.0\n",
    "    try:\n",
    "        bid = float(orderbook['bid'][0]['price'])\n",
    "    except:\n",
    "        bid = 0.0\n",
    "        \n",
    "    bitfinex[symbol] = {'ask':ask,'bid':bid, 'base':symbol[-3:]}"
   ]
  },
  {
   "cell_type": "markdown",
   "metadata": {
    "deletable": true,
    "editable": true
   },
   "source": [
    "## Read from Kraken"
   ]
  },
  {
   "cell_type": "code",
   "execution_count": null,
   "metadata": {
    "collapsed": false,
    "deletable": true,
    "editable": true
   },
   "outputs": [],
   "source": [
    "krakenClient = krakenex.API()\n",
    "krakenClient.load_key('kraken.key')\n",
    "\n",
    "symbols2 = krakenClient.query_public('AssetPairs')['result']\n",
    "symbols = list()\n",
    "\n",
    "for i in symbols2:\n",
    "    symbols.append(symbols2[i])\n",
    "\n",
    "kraken = {}\n",
    "\n",
    "pbar = tqdm(range(len(symbols)))\n",
    "pbar.set_description('Processing')\n",
    "\n",
    "for j in pbar:\n",
    "    symbol = symbols[j]\n",
    "    \n",
    "    try:\n",
    "        ticker = krakenClient.query_public('Ticker', {'pair': symbol['altname']})['result']\n",
    "        try:\n",
    "            ask = float(ticker[symbol['altname']]['a'][0])\n",
    "        except:\n",
    "            ask = 0.0\n",
    "        try:\n",
    "            bid = float(ticker[symbol['altname']]['b'][0])\n",
    "        except:\n",
    "            bid = 0.0\n",
    "            \n",
    "        # Casos a parte\n",
    "        if symbol['quote'] == 'XXBT':\n",
    "            symbol['quote'] = 'BTC'\n",
    "        elif symbol['quote'] == 'ZEUR':\n",
    "            symbol['quote'] = 'EUR'\n",
    "        elif symbol['quote'] == 'XETH':\n",
    "            symbol['quote'] = 'ETH'\n",
    "        elif symbol['quote'] == 'ZUSD':\n",
    "            symbol['quote'] = 'USD'\n",
    "            \n",
    "        if symbol['base'] == 'XXRP':\n",
    "            symbol['base'] = 'XRP'\n",
    "        elif symbol['base'] == 'XXMR':\n",
    "            symbol['base'] = 'XMR'\n",
    "        elif symbol['base'] == 'XXDG':\n",
    "            symbol['base'] = 'XDG'\n",
    "        elif symbol['base'] == 'XXBT':\n",
    "            symbol['base'] = 'BTC'\n",
    "        elif symbol['base'] == 'XETH':\n",
    "            symbol['base'] = 'ETH'\n",
    "        elif symbol['base'] == 'XETC':\n",
    "            symbol['base'] = 'ETC'\n",
    "        elif symbol['base'] == 'XLTC':\n",
    "            symbol['base'] = 'LTC'\n",
    "        elif symbol['base'] == 'XICN':\n",
    "            symbol['base'] = 'ICN'\n",
    "        elif symbol['base'] == 'XMLN':\n",
    "            symbol['base'] = 'MLN'\n",
    "        elif symbol['base'] == 'XREP':\n",
    "            symbol['base'] = 'REP'\n",
    "        elif symbol['base'] == 'XXLM':\n",
    "            symbol['base'] = 'XLM'\n",
    "        elif symbol['base'] == 'XZEC':\n",
    "            symbol['base'] = 'ZEC'\n",
    "\n",
    "        kraken[symbol['base']+symbol['quote']] = {'ask':ask,'bid':bid, 'base':symbol['quote'],\n",
    "                                                  'payinEnabled':True,\n",
    "                                                  'payoutEnabled':True,\n",
    "                                                  'takerFee':'0.0016',\n",
    "                                                  'withdrawalFee': None}\n",
    "    except:\n",
    "        ibis = 0\n",
    "        \n",
    "exchanges['kraken'] = kraken"
   ]
  }
 ],
 "metadata": {
  "kernelspec": {
   "display_name": "Python 3",
   "language": "python",
   "name": "python3"
  },
  "language_info": {
   "codemirror_mode": {
    "name": "ipython",
    "version": 3
   },
   "file_extension": ".py",
   "mimetype": "text/x-python",
   "name": "python",
   "nbconvert_exporter": "python",
   "pygments_lexer": "ipython3",
   "version": "3.6.0"
  }
 },
 "nbformat": 4,
 "nbformat_minor": 2
}
